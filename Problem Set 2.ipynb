{
 "cells": [
  {
   "cell_type": "markdown",
   "id": "5fb0876c",
   "metadata": {},
   "source": [
    "# QUESTION 1:"
   ]
  },
  {
   "cell_type": "code",
   "execution_count": null,
   "id": "cc26e08a",
   "metadata": {},
   "outputs": [],
   "source": [
    "a=0\n",
    "def b():\n",
    "    global a\n",
    "    a=c(a)\n",
    "\n",
    "def c(a):\n",
    "    return a + 2\n",
    "\n",
    "b()              # Following this assertion, (a) changes to 2\n",
    "b()              # Following this, (a) value increases by 2 and becomes 4\n",
    "b()              # Following this, (a) value rises by 2 to reach 6.\n",
    "a                # Value (a), which is 6 is printed.\n",
    "\n",
    "When the final expression (a) is executed, value 6 is shown."
   ]
  },
  {
   "cell_type": "markdown",
   "id": "9c02e888",
   "metadata": {},
   "source": [
    "# QUESTION 2:"
   ]
  },
  {
   "cell_type": "code",
   "execution_count": 27,
   "id": "b49c3527",
   "metadata": {},
   "outputs": [
    {
     "name": "stdout",
     "output_type": "stream",
     "text": [
      "File idterm.py not found\n"
     ]
    }
   ],
   "source": [
    "def file_length(file_name):\n",
    "    try:\n",
    "        file = open(file_name)\n",
    "        contents = file.read()\n",
    "        file.close()\n",
    "        print(len(contents))\n",
    "    except:\n",
    "        print(\"File\",file_name,\"not found\"    #If the interpreter cannot find the file, this line throws an exception.\n",
    "    \n",
    "    \n",
    "file_length('idterm.py')"
   ]
  },
  {
   "cell_type": "markdown",
   "id": "6b7a323e",
   "metadata": {},
   "source": [
    "# QUESTION 3:"
   ]
  },
  {
   "cell_type": "code",
   "execution_count": 2,
   "id": "0fb28de4",
   "metadata": {},
   "outputs": [
    {
     "name": "stdout",
     "output_type": "stream",
     "text": [
      "['doll', 'firetruck', 'kitten']\n",
      "I am a Kangaroo located at coordinates (0, 0)\n",
      " \n",
      "['doll', 'firetruck', 'kitten']\n",
      "I am a Kangaroo located at coordinates (3, 0)\n",
      " \n"
     ]
    }
   ],
   "source": [
    "class Marsupial:\n",
    "    def __init__(self):\n",
    "        self.pouch = []    \n",
    "    def put_in_pouch(self, val):        \n",
    "        self.pouch.append(val)    \n",
    "    def pouch_contents(self):        \n",
    "        print(self.pouch)\n",
    "        \n",
    "m = Marsupial()  \n",
    "m.put_in_pouch(\"doll\")    \n",
    "m.put_in_pouch(\"firetruck\")    \n",
    "m.put_in_pouch(\"kitten\")    \n",
    "m.pouch_contents()\n",
    "\n",
    "    \n",
    "class Kangaroo(Marsupial):\n",
    "    def __init__(self, x, y):        \n",
    "        super().__init__()        \n",
    "        self.coordx = x        \n",
    "        self.coordy = y    \n",
    "    def jump(self, dx, dy):        \n",
    "        self.coordx = self.coordx + dx        \n",
    "        self.coordy = self.coordy + dy    \n",
    "    def __str__(self):       \n",
    "        print(\"I am a Kangaroo located at coordinates (%d, %d)\" %(self.coordx, self.coordy))\n",
    "        return \" \"\n",
    "k = Kangaroo(0,0)\n",
    "print(k)\n",
    "k.put_in_pouch(\"doll\")\n",
    "k.put_in_pouch(\"firetruck\")\n",
    "k.put_in_pouch(\"kitten\")\n",
    "k.pouch_contents()\n",
    "k.jump(1, 0)\n",
    "k.jump(1, 0)\n",
    "k.jump(1, 0)\n",
    "print(k)"
   ]
  },
  {
   "cell_type": "markdown",
   "id": "7671fe19",
   "metadata": {},
   "source": [
    "# QUESTION 4:"
   ]
  },
  {
   "cell_type": "code",
   "execution_count": 3,
   "id": "53869551",
   "metadata": {},
   "outputs": [
    {
     "name": "stdout",
     "output_type": "stream",
     "text": [
      "10\n",
      "5\n",
      "16\n",
      "8\n",
      "4\n",
      "2\n",
      "1\n"
     ]
    }
   ],
   "source": [
    "def collatz(x):\n",
    "    lst=[] #empty list to store sequence\n",
    "    \n",
    "    while (x!=1) :\n",
    "        lst.append(x) \n",
    "       \n",
    "        if (x%2==0) :    #if n is even, just divide with 2\n",
    "            x=x//2\n",
    "        else:\n",
    "            x=(3*x)+1    #if n is odd,multiply by 3 and add 1\n",
    "    lst.append(1)  #print 1 in the end   \n",
    "    length=len(lst)\n",
    "\n",
    "   \n",
    "    for i in range(0,length):\n",
    "        print(lst[i])\n",
    "\n",
    "collatz(10)"
   ]
  },
  {
   "cell_type": "markdown",
   "id": "9f357ec0",
   "metadata": {},
   "source": [
    "# QUESTION 5:"
   ]
  },
  {
   "cell_type": "code",
   "execution_count": 9,
   "id": "8709d92f",
   "metadata": {},
   "outputs": [
    {
     "data": {
      "text/plain": [
       "0"
      ]
     },
     "execution_count": 9,
     "metadata": {},
     "output_type": "execute_result"
    }
   ],
   "source": [
    "def binary(number):\n",
    "    \n",
    "    if number == 0:\n",
    "        return 0\n",
    "                  \n",
    "    else:\n",
    "        return (number % 2 + 10 *binary(int(number // 2)))       #recursive function to give the binary number\n",
    "    \n",
    "  \n",
    "       \n",
    "        \n",
    "\n",
    "binary(0)"
   ]
  },
  {
   "cell_type": "code",
   "execution_count": 10,
   "id": "20291a01",
   "metadata": {},
   "outputs": [
    {
     "data": {
      "text/plain": [
       "1"
      ]
     },
     "execution_count": 10,
     "metadata": {},
     "output_type": "execute_result"
    }
   ],
   "source": [
    "binary(1)"
   ]
  },
  {
   "cell_type": "code",
   "execution_count": 11,
   "id": "5df8d548",
   "metadata": {},
   "outputs": [
    {
     "data": {
      "text/plain": [
       "11"
      ]
     },
     "execution_count": 11,
     "metadata": {},
     "output_type": "execute_result"
    }
   ],
   "source": [
    "binary(3)"
   ]
  },
  {
   "cell_type": "code",
   "execution_count": 12,
   "id": "e80b10a7",
   "metadata": {},
   "outputs": [
    {
     "data": {
      "text/plain": [
       "1001"
      ]
     },
     "execution_count": 12,
     "metadata": {},
     "output_type": "execute_result"
    }
   ],
   "source": [
    "binary(9)"
   ]
  },
  {
   "cell_type": "markdown",
   "id": "93c1c2da",
   "metadata": {},
   "source": [
    "# QUESTION 6:"
   ]
  },
  {
   "cell_type": "code",
   "execution_count": 28,
   "id": "a1ea071a",
   "metadata": {},
   "outputs": [
    {
     "name": "stdout",
     "output_type": "stream",
     "text": [
      "W3C Mission\n",
      "\tPrinciples\n"
     ]
    }
   ],
   "source": [
    "from html.parser import HTMLParser\n",
    "\n",
    "class HeadingParser(HTMLParser):\n",
    "    h1Found = False\n",
    "    h2Found = False\n",
    "    def handle_starttag(self, tag, attrs):\n",
    "        if tag == \"h1\":\n",
    "            self.h1Found = True\n",
    "        elif tag == \"h2\":\n",
    "            self.h2Found = True\n",
    "    def handle_data(self, data):\n",
    "        if self.h1Found:\n",
    "            print(data)\n",
    "        if self.h2Found:\n",
    "            print('\\t'*1 + data)\n",
    "    def handle_endtag(self, tag):\n",
    "        if tag ==\"h1\":\n",
    "            self.h1Found = False\n",
    "        elif tag == \"h2\":\n",
    "            self.h2Found = False\n",
    "\n",
    "hp = HeadingParser()\n",
    "file = open('w3c.html')\n",
    "html = file.read()\n",
    "file.close()\n",
    "hp.feed(html)"
   ]
  },
  {
   "cell_type": "markdown",
   "id": "5ac843e8",
   "metadata": {},
   "source": [
    "# QUESTION 7:"
   ]
  },
  {
   "cell_type": "code",
   "execution_count": null,
   "id": "b8b521f7",
   "metadata": {},
   "outputs": [],
   "source": [
    "Not required "
   ]
  },
  {
   "cell_type": "markdown",
   "id": "084e2974",
   "metadata": {},
   "source": [
    "# QUESTION 8:"
   ]
  },
  {
   "cell_type": "code",
   "execution_count": 8,
   "id": "4c9672f1",
   "metadata": {},
   "outputs": [],
   "source": [
    "import sqlite3"
   ]
  },
  {
   "cell_type": "code",
   "execution_count": 9,
   "id": "17d4501f",
   "metadata": {},
   "outputs": [],
   "source": [
    "con=sqlite3.connect('GlobalData.db')\n",
    "cur=con.cursor()"
   ]
  },
  {
   "cell_type": "code",
   "execution_count": 10,
   "id": "46444810",
   "metadata": {},
   "outputs": [],
   "source": [
    "cur.execute('create table World(City text,Country text,Season text,Temprature FLOAT,Rainfall FLOAT );');"
   ]
  },
  {
   "cell_type": "code",
   "execution_count": 11,
   "id": "ca36b26a",
   "metadata": {},
   "outputs": [
    {
     "data": {
      "text/plain": [
       "<sqlite3.Cursor at 0x7f9808692420>"
      ]
     },
     "execution_count": 11,
     "metadata": {},
     "output_type": "execute_result"
    }
   ],
   "source": [
    "cur.execute('INSERT INTO World(City,Country,Season,Temprature,Rainfall) VALUES(\"Mumbai\",\"India\",\"Winter\",24.8,5.9);')\n",
    "cur.execute('INSERT INTO World(City,Country,Season,Temprature,Rainfall) VALUES(\"Mumbai\",\"India\",\"Spring\",28.4,16.2);')\n",
    "cur.execute('INSERT INTO World(City,Country,Season,Temprature,Rainfall) VALUES(\"Mumbai\",\"India\",\"Summer\",27.9,1549.4);')\n",
    "cur.execute('INSERT INTO World(City,Country,Season,Temprature,Rainfall) VALUES(\"Mumbai\",\"India\",\"Fall\",27.6,346.0);')\n",
    "\n",
    "cur.execute('INSERT INTO World(City,Country,Season,Temprature,Rainfall) VALUES(\"London\",\"United Kingdom\",\"Winter\",4.2,207.7);')\n",
    "cur.execute('INSERT INTO World(City,Country,Season,Temprature,Rainfall) VALUES(\"London\",\"United Kingdom\",\"Spring\",8.3,169.6);')\n",
    "cur.execute('INSERT INTO World(City,Country,Season,Temprature,Rainfall) VALUES(\"London\",\"United Kingdom\",\"Summer\",15.7,157.0);')\n",
    "cur.execute('INSERT INTO World(City,Country,Season,Temprature,Rainfall) VALUES(\"London\",\"United Kingdom\",\"Fall\",10.4,218.5);')\n",
    "\n",
    "cur.execute('INSERT INTO World(City,Country,Season,Temprature,Rainfall) VALUES(\"Cairo\",\"Egypt\",\"Winter\",13.6,16.5);')\n",
    "cur.execute('INSERT INTO World(City,Country,Season,Temprature,Rainfall) VALUES(\"Cairo\",\"Egypt\",\"Spring\",20.7,6.5);')\n",
    "cur.execute('INSERT INTO World(City,Country,Season,Temprature,Rainfall) VALUES(\"Cairo\",\"Egypt\",\"Summer\",27.7,0.1);')\n",
    "cur.execute('INSERT INTO World(City,Country,Season,Temprature,Rainfall) VALUES(\"Cairo\",\"Egypt\",\"Fall\",22.2,4.5);')"
   ]
  },
  {
   "cell_type": "markdown",
   "id": "380437e7",
   "metadata": {},
   "source": [
    "# 8a) Temperature data"
   ]
  },
  {
   "cell_type": "code",
   "execution_count": 29,
   "id": "bbad8017",
   "metadata": {},
   "outputs": [
    {
     "name": "stdout",
     "output_type": "stream",
     "text": [
      "(24.8,)\n",
      "(28.4,)\n",
      "(27.9,)\n",
      "(27.6,)\n",
      "(4.2,)\n",
      "(8.3,)\n",
      "(15.7,)\n",
      "(10.4,)\n",
      "(13.6,)\n",
      "(20.7,)\n",
      "(27.7,)\n",
      "(22.2,)\n"
     ]
    }
   ],
   "source": [
    "for row in cur.execute('SELECT Temprature FROM World;'):\n",
    "    print(row)"
   ]
  },
  {
   "cell_type": "markdown",
   "id": "1ec17bd8",
   "metadata": {},
   "source": [
    "# 8b) Cities without repetition"
   ]
  },
  {
   "cell_type": "code",
   "execution_count": 30,
   "id": "30dfc079",
   "metadata": {},
   "outputs": [
    {
     "name": "stdout",
     "output_type": "stream",
     "text": [
      "('Mumbai',)\n",
      "('London',)\n",
      "('Cairo',)\n"
     ]
    }
   ],
   "source": [
    "for row in cur.execute('SELECT DISTINCT City FROM World;'):\n",
    "    print(row)"
   ]
  },
  {
   "cell_type": "markdown",
   "id": "7ce7eb90",
   "metadata": {},
   "source": [
    "# 8c) Records for India"
   ]
  },
  {
   "cell_type": "code",
   "execution_count": 31,
   "id": "c0167665",
   "metadata": {},
   "outputs": [
    {
     "name": "stdout",
     "output_type": "stream",
     "text": [
      "('Mumbai', 'India', 'Winter', 24.8, 5.9)\n",
      "('Mumbai', 'India', 'Spring', 28.4, 16.2)\n",
      "('Mumbai', 'India', 'Summer', 27.9, 1549.4)\n",
      "('Mumbai', 'India', 'Fall', 27.6, 346.0)\n"
     ]
    }
   ],
   "source": [
    "for row in cur.execute('SELECT * FROM World WHERE Country = \"India\";'):\n",
    "    print(row)"
   ]
  },
  {
   "cell_type": "markdown",
   "id": "f42aadfc",
   "metadata": {},
   "source": [
    "# 8d) Fall records"
   ]
  },
  {
   "cell_type": "code",
   "execution_count": 32,
   "id": "0c9d557b",
   "metadata": {},
   "outputs": [
    {
     "name": "stdout",
     "output_type": "stream",
     "text": [
      "('Mumbai', 'India', 'Fall', 27.6, 346.0)\n",
      "('London', 'United Kingdom', 'Fall', 10.4, 218.5)\n",
      "('Cairo', 'Egypt', 'Fall', 22.2, 4.5)\n"
     ]
    }
   ],
   "source": [
    "for row in cur.execute('SELECT * FROM World WHERE Season = \"Fall\";'):\n",
    "    print(row)"
   ]
  },
  {
   "cell_type": "markdown",
   "id": "c85f80f0",
   "metadata": {},
   "source": [
    "# 8e) City, country, season with average rainfall between 200 and 400mm"
   ]
  },
  {
   "cell_type": "code",
   "execution_count": 33,
   "id": "bfd75455",
   "metadata": {},
   "outputs": [
    {
     "name": "stdout",
     "output_type": "stream",
     "text": [
      "('Mumbai', 'India', 'Fall')\n",
      "('London', 'United Kingdom', 'Winter')\n",
      "('London', 'United Kingdom', 'Fall')\n"
     ]
    }
   ],
   "source": [
    "for row in cur.execute('SELECT City,Country,Season FROM World WHERE Rainfall BETWEEN 200 AND 400;'):\n",
    "    print(row)"
   ]
  },
  {
   "cell_type": "markdown",
   "id": "46cc1b4e",
   "metadata": {},
   "source": [
    "# 8f) City and country - Average fall temperature is 20 degrees "
   ]
  },
  {
   "cell_type": "code",
   "execution_count": 34,
   "id": "0450e57a",
   "metadata": {},
   "outputs": [
    {
     "name": "stdout",
     "output_type": "stream",
     "text": [
      "('Cairo', 'Egypt')\n",
      "('Mumbai', 'India')\n"
     ]
    }
   ],
   "source": [
    "for row in cur.execute('SELECT City,Country FROM World WHERE Season = \"Fall\" AND Temprature > 20 ORDER BY Temprature;'):\n",
    "    print(row)"
   ]
  },
  {
   "cell_type": "markdown",
   "id": "a358290a",
   "metadata": {},
   "source": [
    "# 8g) Annual rainfall for Cairo"
   ]
  },
  {
   "cell_type": "code",
   "execution_count": 35,
   "id": "28c0bd70",
   "metadata": {},
   "outputs": [
    {
     "name": "stdout",
     "output_type": "stream",
     "text": [
      "(27.6,)\n"
     ]
    }
   ],
   "source": [
    "for row in cur.execute('SELECT SUM(Rainfall) FROM World WHERE City = \"Cairo\";'):\n",
    "    print(row)"
   ]
  },
  {
   "cell_type": "markdown",
   "id": "d332b37e",
   "metadata": {},
   "source": [
    "# 8h) Rainfall for each season"
   ]
  },
  {
   "cell_type": "code",
   "execution_count": 36,
   "id": "b5cf4568",
   "metadata": {},
   "outputs": [
    {
     "name": "stdout",
     "output_type": "stream",
     "text": [
      "('Fall', 569.0)\n",
      "('Spring', 192.29999999999998)\n",
      "('Summer', 1706.5)\n",
      "('Winter', 230.1)\n"
     ]
    }
   ],
   "source": [
    "for row in cur.execute('SELECT Season, SUM(Rainfall) FROM World GROUP BY Season;'):\n",
    "    print(row)"
   ]
  },
  {
   "cell_type": "markdown",
   "id": "be0f0bbc",
   "metadata": {},
   "source": [
    "# QUESTION 9:"
   ]
  },
  {
   "cell_type": "code",
   "execution_count": 37,
   "id": "b88bf84a",
   "metadata": {},
   "outputs": [
    {
     "name": "stdout",
     "output_type": "stream",
     "text": [
      "['THE', 'QUICK', 'BROWN', 'FOX', 'JUMPS', 'OVER', 'THE', 'LAZY', 'DOG']\n",
      "\n",
      "\n",
      "['the', 'quick', 'brown', 'fox', 'jumps', 'over', 'the', 'lazy', 'dog']\n",
      "\n",
      "\n",
      "[3, 5, 5, 3, 5, 4, 3, 4, 3]\n",
      "\n",
      "\n",
      "[['THE', 'the', 3], ['QUICK', 'quick', 5], ['BROWN', 'brown', 5], ['FOX', 'fox', 3], ['JUMPS', 'jumps', 5], ['OVER', 'over', 4], ['THE', 'the', 3], ['LAZY', 'lazy', 4], ['DOG', 'dog', 3]]\n",
      "\n",
      "\n",
      "['quick', 'brown', 'jumps', 'over', 'lazy']\n"
     ]
    }
   ],
   "source": [
    "words=[\"The\",\"quick\",\"brown\",\"fox\",\"jumps\",\"over\",\"the\",\"lazy\",\"dog\"]\n",
    "#a Convert words into upper case\n",
    "Uppercase=[text.upper() for text in words]\n",
    "print(Uppercase)\n",
    "print(\"\\n\")\n",
    "\n",
    "#bConvert words into lower case\n",
    "Lowercase=[text.lower()for text in words]\n",
    "print(Lowercase)\n",
    "print(\"\\n\")\n",
    "\n",
    "#c the list of length of words in list words\n",
    "lengthofw=[]\n",
    "for a in words:lengthofw.append(len(a))\n",
    "print(lengthofw)\n",
    "print(\"\\n\")\n",
    "\n",
    "#d\n",
    "\n",
    "initializeCounterValue=0\n",
    "singleListArray=[]\n",
    "for j in words:\n",
    "    singleListArray.append(Uppercase[initializeCounterValue])\n",
    "    singleListArray.append(Lowercase[initializeCounterValue])\n",
    "    singleListArray.append(lengthofw[initializeCounterValue])\n",
    "    initializeCounterValue=initializeCounterValue+1\n",
    "    \n",
    "delimiterVariableLimit=3\n",
    "myarray=[singleListArray[additor:additor+delimiterVariableLimit] for \n",
    "additor in range(0,len(singleListArray),delimiterVariableLimit)]\n",
    "print(myarray)\n",
    "print(\"\\n\")\n",
    "\n",
    "#e\n",
    "def wordString(k,str):\n",
    "    string=[]\n",
    "    text=str.split(\" \")\n",
    "    for x in text:\n",
    "        if len(x)>=k:\n",
    "            string.append(x)\n",
    "    return string\n",
    "result_list=[''.join([str(c) for c in t]) for t in words]\n",
    "result_string=' '.join(result_list)\n",
    "charlen=4\n",
    "print(wordString(charlen,result_string))"
   ]
  }
 ],
 "metadata": {
  "kernelspec": {
   "display_name": "Python 3 (ipykernel)",
   "language": "python",
   "name": "python3"
  },
  "language_info": {
   "codemirror_mode": {
    "name": "ipython",
    "version": 3
   },
   "file_extension": ".py",
   "mimetype": "text/x-python",
   "name": "python",
   "nbconvert_exporter": "python",
   "pygments_lexer": "ipython3",
   "version": "3.9.7"
  }
 },
 "nbformat": 4,
 "nbformat_minor": 5
}
